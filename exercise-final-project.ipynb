{
 "cells": [
  {
   "cell_type": "markdown",
   "id": "f22f1abb",
   "metadata": {
    "papermill": {
     "duration": 0.005926,
     "end_time": "2023-05-28T10:36:54.990020",
     "exception": false,
     "start_time": "2023-05-28T10:36:54.984094",
     "status": "completed"
    },
    "tags": []
   },
   "source": [
    "**This notebook is an exercise in the [Data Visualization](https://www.kaggle.com/learn/data-visualization) course.  You can reference the tutorial at [this link](https://www.kaggle.com/alexisbcook/final-project).**\n",
    "\n",
    "---\n"
   ]
  },
  {
   "cell_type": "markdown",
   "id": "534ab789",
   "metadata": {
    "papermill": {
     "duration": 0.004972,
     "end_time": "2023-05-28T10:36:55.000625",
     "exception": false,
     "start_time": "2023-05-28T10:36:54.995653",
     "status": "completed"
    },
    "tags": []
   },
   "source": [
    "Now it's time for you to demonstrate your new skills with a project of your own!\n",
    "\n",
    "In this exercise, you will work with a dataset of your choosing.  Once you've selected a dataset, you'll design and create your own plot to tell interesting stories behind the data!\n",
    "\n",
    "## Setup\n",
    "\n",
    "Run the next cell to import and configure the Python libraries that you need to complete the exercise."
   ]
  },
  {
   "cell_type": "code",
   "execution_count": 1,
   "id": "2d0dd9c3",
   "metadata": {
    "execution": {
     "iopub.execute_input": "2023-05-28T10:36:55.013314Z",
     "iopub.status.busy": "2023-05-28T10:36:55.012916Z",
     "iopub.status.idle": "2023-05-28T10:36:56.775437Z",
     "shell.execute_reply": "2023-05-28T10:36:56.774092Z"
    },
    "papermill": {
     "duration": 1.772344,
     "end_time": "2023-05-28T10:36:56.778259",
     "exception": false,
     "start_time": "2023-05-28T10:36:55.005915",
     "status": "completed"
    },
    "tags": []
   },
   "outputs": [
    {
     "name": "stdout",
     "output_type": "stream",
     "text": [
      "Setup Complete\n"
     ]
    }
   ],
   "source": [
    "import pandas as pd\n",
    "pd.plotting.register_matplotlib_converters()\n",
    "import matplotlib.pyplot as plt\n",
    "%matplotlib inline\n",
    "import seaborn as sns\n",
    "print(\"Setup Complete\")"
   ]
  },
  {
   "cell_type": "markdown",
   "id": "59936d60",
   "metadata": {
    "papermill": {
     "duration": 0.005491,
     "end_time": "2023-05-28T10:36:56.789681",
     "exception": false,
     "start_time": "2023-05-28T10:36:56.784190",
     "status": "completed"
    },
    "tags": []
   },
   "source": [
    "The questions below will give you feedback on your work. Run the following cell to set up the feedback system."
   ]
  },
  {
   "cell_type": "code",
   "execution_count": 2,
   "id": "8e09ad3c",
   "metadata": {
    "execution": {
     "iopub.execute_input": "2023-05-28T10:36:56.802662Z",
     "iopub.status.busy": "2023-05-28T10:36:56.802227Z",
     "iopub.status.idle": "2023-05-28T10:36:56.850428Z",
     "shell.execute_reply": "2023-05-28T10:36:56.848949Z"
    },
    "papermill": {
     "duration": 0.057876,
     "end_time": "2023-05-28T10:36:56.853125",
     "exception": false,
     "start_time": "2023-05-28T10:36:56.795249",
     "status": "completed"
    },
    "tags": []
   },
   "outputs": [
    {
     "name": "stdout",
     "output_type": "stream",
     "text": [
      "Setup Complete\n"
     ]
    }
   ],
   "source": [
    "# Set up code checking\n",
    "from learntools.core import binder\n",
    "binder.bind(globals())\n",
    "from learntools.data_viz_to_coder.ex7 import *\n",
    "print(\"Setup Complete\")"
   ]
  },
  {
   "cell_type": "markdown",
   "id": "61a03662",
   "metadata": {
    "papermill": {
     "duration": 0.00564,
     "end_time": "2023-05-28T10:36:56.864962",
     "exception": false,
     "start_time": "2023-05-28T10:36:56.859322",
     "status": "completed"
    },
    "tags": []
   },
   "source": [
    "## Step 1: Attach a dataset to the notebook\n",
    "\n",
    "Begin by selecting a CSV dataset from [Kaggle Datasets](https://www.kaggle.com/datasets).  If you're unsure how to do this, please revisit the instructions in the previous tutorial.\n",
    "\n",
    "Once you have selected a dataset, click on the **[+ Add data]** option in the top right corner.  This will generate a pop-up window that you can use to search for your chosen dataset.  \n",
    "\n",
    "![ex6_search_dataset](https://storage.googleapis.com/kaggle-media/learn/images/cIIWPUS.png)\n",
    "\n",
    "Once you have found the dataset, click on the **[Add]** button to attach it to the notebook.  You can check that it was successful by looking at the **Data** dropdown menu to the right of the notebook -- look for an **input** folder containing a subfolder that matches the name of the dataset.\n",
    "\n",
    "<center>\n",
    "<img src=\"https://storage.googleapis.com/kaggle-media/learn/images/nMYc1Nu.png\" width=30%><br/>\n",
    "</center>\n",
    "\n",
    "You can click on the carat to the left of the name of the dataset to double-check that it contains a CSV file.  For instance, the image below shows that the example dataset contains two CSV files: (1) **dc-wikia-data.csv**, and (2) **marvel-wikia-data.csv**.\n",
    "\n",
    "<center>\n",
    "<img src=\"https://storage.googleapis.com/kaggle-media/learn/images/B4sJkVA.png\" width=30%><br/>\n",
    "</center>\n",
    "\n",
    "Once you've uploaded a dataset with a CSV file, run the code cell below **without changes** to receive credit for your work!"
   ]
  },
  {
   "cell_type": "code",
   "execution_count": 3,
   "id": "8e452166",
   "metadata": {
    "execution": {
     "iopub.execute_input": "2023-05-28T10:36:56.878787Z",
     "iopub.status.busy": "2023-05-28T10:36:56.878394Z",
     "iopub.status.idle": "2023-05-28T10:36:56.892450Z",
     "shell.execute_reply": "2023-05-28T10:36:56.891182Z"
    },
    "papermill": {
     "duration": 0.02394,
     "end_time": "2023-05-28T10:36:56.895040",
     "exception": false,
     "start_time": "2023-05-28T10:36:56.871100",
     "status": "completed"
    },
    "tags": []
   },
   "outputs": [
    {
     "data": {
      "application/javascript": [
       "parent.postMessage({\"jupyterEvent\": \"custom.exercise_interaction\", \"data\": {\"outcomeType\": 1, \"valueTowardsCompletion\": 0.25, \"interactionType\": 1, \"questionType\": 2, \"questionId\": \"1_AttachData\", \"learnToolsVersion\": \"0.3.4\", \"failureMessage\": \"\", \"exceptionClass\": \"\", \"trace\": \"\"}}, \"*\")"
      ],
      "text/plain": [
       "<IPython.core.display.Javascript object>"
      ]
     },
     "metadata": {},
     "output_type": "display_data"
    },
    {
     "data": {
      "text/markdown": [
       "<span style=\"color:#33cc33\">Correct:</span> \n",
       "\n"
      ],
      "text/plain": [
       "Correct: \n"
      ]
     },
     "metadata": {},
     "output_type": "display_data"
    }
   ],
   "source": [
    "\n",
    "# Check for a dataset with a CSV file\n",
    "step_1.check()"
   ]
  },
  {
   "cell_type": "markdown",
   "id": "e09329c5",
   "metadata": {
    "papermill": {
     "duration": 0.005463,
     "end_time": "2023-05-28T10:36:56.907885",
     "exception": false,
     "start_time": "2023-05-28T10:36:56.902422",
     "status": "completed"
    },
    "tags": []
   },
   "source": [
    "## Step 2: Specify the filepath\n",
    "\n",
    "Now that the dataset is attached to the notebook, you can find its filepath.  To do this, begin by clicking on the CSV file you'd like to use.  This will open the CSV file in a tab below the notebook.  You can find the filepath towards the top of this new tab.  \n",
    "\n",
    "![ex6_filepath](https://storage.googleapis.com/kaggle-media/learn/images/fgXQV47.png)\n",
    "\n",
    "After you find the filepath corresponding to your dataset, fill it in as the value for `my_filepath` in the code cell below, and run the code cell to check that you've provided a valid filepath.  For instance, in the case of this example dataset, we would set\n",
    "```\n",
    "my_filepath = \"../input/fivethirtyeight-comic-characters-dataset/dc-wikia-data.csv\"\n",
    "```  \n",
    "Note that **you must enclose the filepath in quotation marks**; otherwise, the code will return an error.\n",
    "\n",
    "Once you've entered the filepath, you can close the tab below the notebook by clicking on the **[X]** at the top of the tab."
   ]
  },
  {
   "cell_type": "code",
   "execution_count": 4,
   "id": "9da36c14",
   "metadata": {
    "execution": {
     "iopub.execute_input": "2023-05-28T10:36:56.921403Z",
     "iopub.status.busy": "2023-05-28T10:36:56.920989Z",
     "iopub.status.idle": "2023-05-28T10:36:56.930900Z",
     "shell.execute_reply": "2023-05-28T10:36:56.929860Z"
    },
    "papermill": {
     "duration": 0.019317,
     "end_time": "2023-05-28T10:36:56.933067",
     "exception": false,
     "start_time": "2023-05-28T10:36:56.913750",
     "status": "completed"
    },
    "tags": []
   },
   "outputs": [
    {
     "data": {
      "application/javascript": [
       "parent.postMessage({\"jupyterEvent\": \"custom.exercise_interaction\", \"data\": {\"outcomeType\": 1, \"valueTowardsCompletion\": 0.25, \"interactionType\": 1, \"questionType\": 2, \"questionId\": \"2_Filepath\", \"learnToolsVersion\": \"0.3.4\", \"failureMessage\": \"\", \"exceptionClass\": \"\", \"trace\": \"\"}}, \"*\")"
      ],
      "text/plain": [
       "<IPython.core.display.Javascript object>"
      ]
     },
     "metadata": {},
     "output_type": "display_data"
    },
    {
     "data": {
      "text/markdown": [
       "<span style=\"color:#33cc33\">Correct:</span> \n",
       "\n"
      ],
      "text/plain": [
       "Correct: \n"
      ]
     },
     "metadata": {},
     "output_type": "display_data"
    }
   ],
   "source": [
    "\n",
    "# Fill in the line below: Specify the path of the CSV file to read\n",
    "my_filepath = \"/kaggle/input/bundesliga-seasons/bulidata.csv\"\n",
    "\n",
    "# Check for a valid filepath to a CSV file in a dataset\n",
    "step_2.check()"
   ]
  },
  {
   "cell_type": "markdown",
   "id": "62b95820",
   "metadata": {
    "papermill": {
     "duration": 0.00672,
     "end_time": "2023-05-28T10:36:56.945993",
     "exception": false,
     "start_time": "2023-05-28T10:36:56.939273",
     "status": "completed"
    },
    "tags": []
   },
   "source": [
    "## Step 3: Load the data\n",
    "\n",
    "Use the next code cell to load your data file into `my_data`.  Use the filepath that you specified in the previous step."
   ]
  },
  {
   "cell_type": "code",
   "execution_count": 5,
   "id": "015927cf",
   "metadata": {
    "execution": {
     "iopub.execute_input": "2023-05-28T10:36:56.960837Z",
     "iopub.status.busy": "2023-05-28T10:36:56.960424Z",
     "iopub.status.idle": "2023-05-28T10:36:57.044886Z",
     "shell.execute_reply": "2023-05-28T10:36:57.043579Z"
    },
    "papermill": {
     "duration": 0.095049,
     "end_time": "2023-05-28T10:36:57.047338",
     "exception": false,
     "start_time": "2023-05-28T10:36:56.952289",
     "status": "completed"
    },
    "tags": []
   },
   "outputs": [
    {
     "data": {
      "application/javascript": [
       "parent.postMessage({\"jupyterEvent\": \"custom.exercise_interaction\", \"data\": {\"outcomeType\": 1, \"valueTowardsCompletion\": 0.25, \"interactionType\": 1, \"questionType\": 2, \"questionId\": \"3_LoadData\", \"learnToolsVersion\": \"0.3.4\", \"failureMessage\": \"\", \"exceptionClass\": \"\", \"trace\": \"\"}}, \"*\")"
      ],
      "text/plain": [
       "<IPython.core.display.Javascript object>"
      ]
     },
     "metadata": {},
     "output_type": "display_data"
    },
    {
     "data": {
      "text/markdown": [
       "<span style=\"color:#33cc33\">Correct:</span> \n",
       "\n"
      ],
      "text/plain": [
       "Correct: \n"
      ]
     },
     "metadata": {},
     "output_type": "display_data"
    }
   ],
   "source": [
    "# Fill in the line below: Read the file into a variable my_data\n",
    "my_data = pd.read_csv(my_filepath)\n",
    "\n",
    "# Check that a dataset has been uploaded into my_data\n",
    "step_3.check()"
   ]
  },
  {
   "cell_type": "markdown",
   "id": "30de5b08",
   "metadata": {
    "papermill": {
     "duration": 0.00646,
     "end_time": "2023-05-28T10:36:57.060793",
     "exception": false,
     "start_time": "2023-05-28T10:36:57.054333",
     "status": "completed"
    },
    "tags": []
   },
   "source": [
    "**_After the code cell above is marked correct_**, run the code cell below without changes to view the first five rows of the data."
   ]
  },
  {
   "cell_type": "code",
   "execution_count": 6,
   "id": "d8c0c6d8",
   "metadata": {
    "execution": {
     "iopub.execute_input": "2023-05-28T10:36:57.077436Z",
     "iopub.status.busy": "2023-05-28T10:36:57.076947Z",
     "iopub.status.idle": "2023-05-28T10:36:57.134701Z",
     "shell.execute_reply": "2023-05-28T10:36:57.133394Z"
    },
    "papermill": {
     "duration": 0.069458,
     "end_time": "2023-05-28T10:36:57.137476",
     "exception": false,
     "start_time": "2023-05-28T10:36:57.068018",
     "status": "completed"
    },
    "tags": []
   },
   "outputs": [
    {
     "data": {
      "text/html": [
       "<div>\n",
       "<style scoped>\n",
       "    .dataframe tbody tr th:only-of-type {\n",
       "        vertical-align: middle;\n",
       "    }\n",
       "\n",
       "    .dataframe tbody tr th {\n",
       "        vertical-align: top;\n",
       "    }\n",
       "\n",
       "    .dataframe thead th {\n",
       "        text-align: right;\n",
       "    }\n",
       "</style>\n",
       "<table border=\"1\" class=\"dataframe\">\n",
       "  <thead>\n",
       "    <tr style=\"text-align: right;\">\n",
       "      <th></th>\n",
       "      <th>Unnamed: 0</th>\n",
       "      <th>MATCH_DATE</th>\n",
       "      <th>LEAGUE_NAME</th>\n",
       "      <th>SEASON</th>\n",
       "      <th>LEAGUE</th>\n",
       "      <th>FINISHED</th>\n",
       "      <th>LOCATION</th>\n",
       "      <th>VIEWER</th>\n",
       "      <th>MATCHDAY</th>\n",
       "      <th>MATCHDAY_NR</th>\n",
       "      <th>...</th>\n",
       "      <th>HOME_ICON</th>\n",
       "      <th>AWAY_TEAM_ID</th>\n",
       "      <th>AWAY_TEAM_NAME</th>\n",
       "      <th>AWAY_TEAM</th>\n",
       "      <th>AWAY_ICON</th>\n",
       "      <th>GOALS_HOME</th>\n",
       "      <th>GOALS_AWAY</th>\n",
       "      <th>DRAW</th>\n",
       "      <th>WIN_HOME</th>\n",
       "      <th>WIN_AWAY</th>\n",
       "    </tr>\n",
       "  </thead>\n",
       "  <tbody>\n",
       "    <tr>\n",
       "      <th>0</th>\n",
       "      <td>0</td>\n",
       "      <td>2005-08-05 20:30:00</td>\n",
       "      <td>1. Fussball-Bundesliga 2005/2006</td>\n",
       "      <td>2005</td>\n",
       "      <td>bl1</td>\n",
       "      <td>True</td>\n",
       "      <td>München</td>\n",
       "      <td>NaN</td>\n",
       "      <td>1. Spieltag</td>\n",
       "      <td>1</td>\n",
       "      <td>...</td>\n",
       "      <td>https://i.imgur.com/jJEsJrj.png</td>\n",
       "      <td>87</td>\n",
       "      <td>Borussia Mönchengladbach</td>\n",
       "      <td>Gladbach</td>\n",
       "      <td>https://i.imgur.com/KSIk0Eu.png</td>\n",
       "      <td>3</td>\n",
       "      <td>0</td>\n",
       "      <td>0.0</td>\n",
       "      <td>1.0</td>\n",
       "      <td>0.0</td>\n",
       "    </tr>\n",
       "    <tr>\n",
       "      <th>1</th>\n",
       "      <td>1</td>\n",
       "      <td>2005-08-06 15:30:00</td>\n",
       "      <td>1. Fussball-Bundesliga 2005/2006</td>\n",
       "      <td>2005</td>\n",
       "      <td>bl1</td>\n",
       "      <td>True</td>\n",
       "      <td>Köln</td>\n",
       "      <td>NaN</td>\n",
       "      <td>1. Spieltag</td>\n",
       "      <td>1</td>\n",
       "      <td>...</td>\n",
       "      <td>https://upload.wikimedia.org/wikipedia/en/thum...</td>\n",
       "      <td>81</td>\n",
       "      <td>1. FSV Mainz 05</td>\n",
       "      <td>Mainz</td>\n",
       "      <td>https://upload.wikimedia.org/wikipedia/commons...</td>\n",
       "      <td>1</td>\n",
       "      <td>0</td>\n",
       "      <td>0.0</td>\n",
       "      <td>1.0</td>\n",
       "      <td>0.0</td>\n",
       "    </tr>\n",
       "    <tr>\n",
       "      <th>2</th>\n",
       "      <td>2</td>\n",
       "      <td>2005-08-06 15:30:00</td>\n",
       "      <td>1. Fussball-Bundesliga 2005/2006</td>\n",
       "      <td>2005</td>\n",
       "      <td>bl1</td>\n",
       "      <td>True</td>\n",
       "      <td>Duisburg</td>\n",
       "      <td>NaN</td>\n",
       "      <td>1. Spieltag</td>\n",
       "      <td>1</td>\n",
       "      <td>...</td>\n",
       "      <td>https://upload.wikimedia.org/wikipedia/en/c/c8...</td>\n",
       "      <td>16</td>\n",
       "      <td>VfB Stuttgart</td>\n",
       "      <td>Stuttgart</td>\n",
       "      <td>https://i.imgur.com/v0tkpNx.png</td>\n",
       "      <td>1</td>\n",
       "      <td>1</td>\n",
       "      <td>1.0</td>\n",
       "      <td>0.0</td>\n",
       "      <td>0.0</td>\n",
       "    </tr>\n",
       "    <tr>\n",
       "      <th>3</th>\n",
       "      <td>3</td>\n",
       "      <td>2005-08-06 15:30:00</td>\n",
       "      <td>1. Fussball-Bundesliga 2005/2006</td>\n",
       "      <td>2005</td>\n",
       "      <td>bl1</td>\n",
       "      <td>True</td>\n",
       "      <td>Hamburg</td>\n",
       "      <td>NaN</td>\n",
       "      <td>1. Spieltag</td>\n",
       "      <td>1</td>\n",
       "      <td>...</td>\n",
       "      <td>https://upload.wikimedia.org/wikipedia/commons...</td>\n",
       "      <td>79</td>\n",
       "      <td>1. FC Nürnberg</td>\n",
       "      <td>Nürnberg</td>\n",
       "      <td>https://upload.wikimedia.org/wikipedia/commons...</td>\n",
       "      <td>3</td>\n",
       "      <td>0</td>\n",
       "      <td>0.0</td>\n",
       "      <td>1.0</td>\n",
       "      <td>0.0</td>\n",
       "    </tr>\n",
       "    <tr>\n",
       "      <th>4</th>\n",
       "      <td>4</td>\n",
       "      <td>2005-08-06 15:30:00</td>\n",
       "      <td>1. Fussball-Bundesliga 2005/2006</td>\n",
       "      <td>2005</td>\n",
       "      <td>bl1</td>\n",
       "      <td>True</td>\n",
       "      <td>Wolfsburg</td>\n",
       "      <td>NaN</td>\n",
       "      <td>1. Spieltag</td>\n",
       "      <td>1</td>\n",
       "      <td>...</td>\n",
       "      <td>https://i.imgur.com/ucqKV4B.png</td>\n",
       "      <td>7</td>\n",
       "      <td>Borussia Dortmund</td>\n",
       "      <td>BVB</td>\n",
       "      <td>https://upload.wikimedia.org/wikipedia/commons...</td>\n",
       "      <td>2</td>\n",
       "      <td>2</td>\n",
       "      <td>1.0</td>\n",
       "      <td>0.0</td>\n",
       "      <td>0.0</td>\n",
       "    </tr>\n",
       "  </tbody>\n",
       "</table>\n",
       "<p>5 rows × 23 columns</p>\n",
       "</div>"
      ],
      "text/plain": [
       "   Unnamed: 0           MATCH_DATE                       LEAGUE_NAME  SEASON  \\\n",
       "0           0  2005-08-05 20:30:00  1. Fussball-Bundesliga 2005/2006    2005   \n",
       "1           1  2005-08-06 15:30:00  1. Fussball-Bundesliga 2005/2006    2005   \n",
       "2           2  2005-08-06 15:30:00  1. Fussball-Bundesliga 2005/2006    2005   \n",
       "3           3  2005-08-06 15:30:00  1. Fussball-Bundesliga 2005/2006    2005   \n",
       "4           4  2005-08-06 15:30:00  1. Fussball-Bundesliga 2005/2006    2005   \n",
       "\n",
       "  LEAGUE  FINISHED   LOCATION  VIEWER     MATCHDAY  MATCHDAY_NR  ...  \\\n",
       "0    bl1      True    München     NaN  1. Spieltag            1  ...   \n",
       "1    bl1      True       Köln     NaN  1. Spieltag            1  ...   \n",
       "2    bl1      True   Duisburg     NaN  1. Spieltag            1  ...   \n",
       "3    bl1      True    Hamburg     NaN  1. Spieltag            1  ...   \n",
       "4    bl1      True  Wolfsburg     NaN  1. Spieltag            1  ...   \n",
       "\n",
       "                                           HOME_ICON AWAY_TEAM_ID  \\\n",
       "0                    https://i.imgur.com/jJEsJrj.png           87   \n",
       "1  https://upload.wikimedia.org/wikipedia/en/thum...           81   \n",
       "2  https://upload.wikimedia.org/wikipedia/en/c/c8...           16   \n",
       "3  https://upload.wikimedia.org/wikipedia/commons...           79   \n",
       "4                    https://i.imgur.com/ucqKV4B.png            7   \n",
       "\n",
       "             AWAY_TEAM_NAME  AWAY_TEAM  \\\n",
       "0  Borussia Mönchengladbach   Gladbach   \n",
       "1           1. FSV Mainz 05      Mainz   \n",
       "2             VfB Stuttgart  Stuttgart   \n",
       "3            1. FC Nürnberg   Nürnberg   \n",
       "4         Borussia Dortmund        BVB   \n",
       "\n",
       "                                           AWAY_ICON GOALS_HOME GOALS_AWAY  \\\n",
       "0                    https://i.imgur.com/KSIk0Eu.png          3          0   \n",
       "1  https://upload.wikimedia.org/wikipedia/commons...          1          0   \n",
       "2                    https://i.imgur.com/v0tkpNx.png          1          1   \n",
       "3  https://upload.wikimedia.org/wikipedia/commons...          3          0   \n",
       "4  https://upload.wikimedia.org/wikipedia/commons...          2          2   \n",
       "\n",
       "  DRAW  WIN_HOME  WIN_AWAY  \n",
       "0  0.0       1.0       0.0  \n",
       "1  0.0       1.0       0.0  \n",
       "2  1.0       0.0       0.0  \n",
       "3  0.0       1.0       0.0  \n",
       "4  1.0       0.0       0.0  \n",
       "\n",
       "[5 rows x 23 columns]"
      ]
     },
     "execution_count": 6,
     "metadata": {},
     "output_type": "execute_result"
    }
   ],
   "source": [
    "# Print the first five rows of the data\n",
    "my_data.head()"
   ]
  },
  {
   "cell_type": "markdown",
   "id": "b2adc39f",
   "metadata": {
    "papermill": {
     "duration": 0.00663,
     "end_time": "2023-05-28T10:36:57.151351",
     "exception": false,
     "start_time": "2023-05-28T10:36:57.144721",
     "status": "completed"
    },
    "tags": []
   },
   "source": [
    "## Step 4: Visualize the data\n",
    "\n",
    "Use the next code cell to create a figure that tells a story behind your dataset.  You can use any chart type (_line chart, bar chart, heatmap, etc_) of your choosing!"
   ]
  },
  {
   "cell_type": "code",
   "execution_count": 7,
   "id": "aa81c521",
   "metadata": {
    "execution": {
     "iopub.execute_input": "2023-05-28T10:36:57.167341Z",
     "iopub.status.busy": "2023-05-28T10:36:57.166722Z",
     "iopub.status.idle": "2023-05-28T10:37:19.405672Z",
     "shell.execute_reply": "2023-05-28T10:37:19.404309Z"
    },
    "papermill": {
     "duration": 22.250024,
     "end_time": "2023-05-28T10:37:19.408299",
     "exception": false,
     "start_time": "2023-05-28T10:36:57.158275",
     "status": "completed"
    },
    "tags": []
   },
   "outputs": [
    {
     "data": {
      "application/javascript": [
       "parent.postMessage({\"jupyterEvent\": \"custom.exercise_interaction\", \"data\": {\"outcomeType\": 1, \"valueTowardsCompletion\": 0.25, \"interactionType\": 1, \"questionType\": 2, \"questionId\": \"4_CreatePlot\", \"learnToolsVersion\": \"0.3.4\", \"failureMessage\": \"\", \"exceptionClass\": \"\", \"trace\": \"\"}}, \"*\")"
      ],
      "text/plain": [
       "<IPython.core.display.Javascript object>"
      ]
     },
     "metadata": {},
     "output_type": "display_data"
    },
    {
     "data": {
      "text/markdown": [
       "<span style=\"color:#33cc33\">Correct:</span> \n",
       "\n"
      ],
      "text/plain": [
       "Correct: \n"
      ]
     },
     "metadata": {},
     "output_type": "display_data"
    },
    {
     "data": {
      "image/png": "[encoded data removed]",
      "text/plain": [
       "<Figure size 640x480 with 1 Axes>"
      ]
     },
     "metadata": {},
     "output_type": "display_data"
    }
   ],
   "source": [
    "# Create a plot\n",
    "sns.histplot(my_data, x=my_data['VIEWER'], y=my_data['MATCH_DATE'])\n",
    "\n",
    "# Check that a figure appears below\n",
    "step_4.check()"
   ]
  },
  {
   "cell_type": "markdown",
   "id": "e4e59f76",
   "metadata": {
    "papermill": {
     "duration": 0.007876,
     "end_time": "2023-05-28T10:37:19.424365",
     "exception": false,
     "start_time": "2023-05-28T10:37:19.416489",
     "status": "completed"
    },
    "tags": []
   },
   "source": [
    "## Keep going\n",
    "\n",
    "Learn how to use your skills after completing the micro-course to create data visualizations in a **[final tutorial](https://www.kaggle.com/alexisbcook/creating-your-own-notebooks)**."
   ]
  },
  {
   "cell_type": "markdown",
   "id": "d94efdce",
   "metadata": {
    "papermill": {
     "duration": 0.007653,
     "end_time": "2023-05-28T10:37:19.440481",
     "exception": false,
     "start_time": "2023-05-28T10:37:19.432828",
     "status": "completed"
    },
    "tags": []
   },
   "source": [
    "---\n",
    "\n",
    "\n",
    "\n",
    "\n",
    "*Have questions or comments? Visit the [course discussion forum](https://www.kaggle.com/learn/data-visualization/discussion) to chat with other learners.*"
   ]
  }
 ],
 "metadata": {
  "kernelspec": {
   "display_name": "Python 3",
   "language": "python",
   "name": "python3"
  },
  "language_info": {
   "codemirror_mode": {
    "name": "ipython",
    "version": 3
   },
   "file_extension": ".py",
   "mimetype": "text/x-python",
   "name": "python",
   "nbconvert_exporter": "python",
   "pygments_lexer": "ipython3",
   "version": "3.10.10"
  },
  "papermill": {
   "default_parameters": {},
   "duration": 40.75185,
   "end_time": "2023-05-28T10:37:22.560801",
   "environment_variables": {},
   "exception": null,
   "input_path": "__notebook__.ipynb",
   "output_path": "__notebook__.ipynb",
   "parameters": {},
   "start_time": "2023-05-28T10:36:41.808951",
   "version": "2.4.0"
  }
 },
 "nbformat": 4,
 "nbformat_minor": 5
}
